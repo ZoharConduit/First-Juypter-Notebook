{
 "cells": [
  {
   "cell_type": "markdown",
   "id": "00279285-5ae9-4224-9205-b3b006d92e33",
   "metadata": {},
   "source": [
    "# Data Science Tools and Ecosystem"
   ]
  },
  {
   "cell_type": "markdown",
   "id": "f40945bc-9189-4098-b1a1-b71208b41753",
   "metadata": {
    "tags": []
   },
   "source": [
    "In this notebook, Data Science Tools and Ecosystem are summarized."
   ]
  },
  {
   "cell_type": "markdown",
   "id": "11afda0c-e806-4e24-9160-f030aa4f5dd4",
   "metadata": {},
   "source": [
    "Some of the popular languages that Data Scientists use are:\n",
    "1. SQL\n",
    "2. Python\n",
    "3. R"
   ]
  },
  {
   "cell_type": "markdown",
   "id": "c3ed25a6-bf7a-4350-953a-1208a556b80a",
   "metadata": {},
   "source": [
    "**Objectives:**\n",
    "- List popular languages for Data Science\n",
    "- List commonly used libraries \n",
    "- Display arithmetic using python"
   ]
  },
  {
   "cell_type": "markdown",
   "id": "ebad62be-322e-4265-98ec-7c2709a76aaa",
   "metadata": {},
   "source": [
    "Some of the commonly used libraries used by Data Scientist include:\n",
    "1. Pandas\n",
    "2. NumPy\n",
    "3. Scikit-Learn"
   ]
  },
  {
   "cell_type": "markdown",
   "id": "200102a4-fea3-4ebe-9c2d-830bf07fce5b",
   "metadata": {},
   "source": [
    "|Data Science Tools                        |\n",
    "---------------------------------------\n",
    "| Watson Studio |\n",
    "| Apache Spark |\n",
    "| R Studios |\n",
    "\n"
   ]
  },
  {
   "cell_type": "markdown",
   "id": "4abdef10-8a68-4144-9167-7e604696923e",
   "metadata": {},
   "source": [
    "### Below are a few examples of evalulating arithmetic expressions in python"
   ]
  },
  {
   "cell_type": "code",
   "execution_count": 2,
   "id": "2a2f1353-bbac-4e6b-b4c2-ab058981c2ae",
   "metadata": {
    "tags": []
   },
   "outputs": [
    {
     "data": {
      "text/plain": [
       "17"
      ]
     },
     "execution_count": 2,
     "metadata": {},
     "output_type": "execute_result"
    }
   ],
   "source": [
    "(3*4)+5"
   ]
  },
  {
   "cell_type": "code",
   "execution_count": 6,
   "id": "ee83c294-c9a2-4e96-b257-77cfc848e7e9",
   "metadata": {
    "tags": []
   },
   "outputs": [
    {
     "data": {
      "text/plain": [
       "3.3333333333333335"
      ]
     },
     "execution_count": 6,
     "metadata": {},
     "output_type": "execute_result"
    }
   ],
   "source": [
    "200/60\n",
    "# 200 is being divided by 60 to give the number of hours"
   ]
  },
  {
   "cell_type": "markdown",
   "id": "1955efa6-2ebf-4d68-8044-f1da96315931",
   "metadata": {},
   "source": [
    "## Author\n",
    "Derek"
   ]
  },
  {
   "cell_type": "code",
   "execution_count": null,
   "id": "061438a7-7f28-4620-b8e8-64939c63e81d",
   "metadata": {},
   "outputs": [],
   "source": []
  }
 ],
 "metadata": {
  "kernelspec": {
   "display_name": "Python 3 (ipykernel)",
   "language": "python",
   "name": "python3"
  },
  "language_info": {
   "codemirror_mode": {
    "name": "ipython",
    "version": 3
   },
   "file_extension": ".py",
   "mimetype": "text/x-python",
   "name": "python",
   "nbconvert_exporter": "python",
   "pygments_lexer": "ipython3",
   "version": "3.11.3"
  }
 },
 "nbformat": 4,
 "nbformat_minor": 5
}
