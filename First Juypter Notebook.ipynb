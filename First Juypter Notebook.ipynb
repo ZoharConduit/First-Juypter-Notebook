{
 "cells": [
  {
   "cell_type": "markdown",
   "id": "452fe842-277f-43e1-b2a5-b828743ee3ec",
   "metadata": {
    "tags": []
   },
   "source": [
    "# Branches and Conditions using if statements"
   ]
  },
  {
   "cell_type": "markdown",
   "id": "a129de0f-d2a9-47ec-8161-d84ff761705c",
   "metadata": {
    "tags": []
   },
   "source": [
    "### If Statements"
   ]
  },
  {
   "cell_type": "code",
   "execution_count": 1,
   "id": "81de9e69-4ae9-4890-8df2-52559ca10f94",
   "metadata": {
    "tags": []
   },
   "outputs": [
    {
     "data": {
      "text/plain": [
       "19"
      ]
     },
     "execution_count": 1,
     "metadata": {},
     "output_type": "execute_result"
    }
   ],
   "source": [
    "age=19\n",
    "age\n",
    "#age of the child "
   ]
  },
  {
   "cell_type": "code",
   "execution_count": 2,
   "id": "0b125d56-c735-41f6-8a00-b3a6300803e6",
   "metadata": {
    "tags": []
   },
   "outputs": [
    {
     "name": "stdout",
     "output_type": "stream",
     "text": [
      "you can enter\n",
      "move on\n"
     ]
    }
   ],
   "source": [
    "if(age>18):\n",
    "    print(\"you can enter\")\n",
    "else:\n",
    "        print(\"you can't enter\")\n",
    "print(\"move on\")\n",
    "#allows children old enough to enter the movies"
   ]
  },
  {
   "cell_type": "markdown",
   "id": "4c2cc085-0e69-4212-9979-802fd3de6746",
   "metadata": {
    "tags": []
   },
   "source": [
    "### And Or Statements"
   ]
  },
  {
   "cell_type": "code",
   "execution_count": 3,
   "id": "7bad3ab2-5950-467e-b87f-ed2e3bfdd3a0",
   "metadata": {},
   "outputs": [
    {
     "name": "stdout",
     "output_type": "stream",
     "text": [
      "you can enter\n"
     ]
    }
   ],
   "source": [
    "age=19\n",
    "if(age>18):\n",
    "    print(\"you can enter\")\n",
    "else:\n",
    "    print(\"you can't enter\")\n",
    "if age == 18 or age == 17:\n",
    "    print(\"you are almost old enough to see the movie\")\n",
    "#allows children who are old enough to enter the movies to enter, if not old enough, it will tell them they are close to be the desired age"
   ]
  },
  {
   "cell_type": "code",
   "execution_count": 4,
   "id": "c1b3f49c-c5e3-4a0d-8a90-f8ad06062995",
   "metadata": {},
   "outputs": [
    {
     "name": "stdout",
     "output_type": "stream",
     "text": [
      "you both can see the movie\n"
     ]
    }
   ],
   "source": [
    "age1=19 \n",
    "age2=20\n",
    "if(age1>18) and (age2>18):\n",
    "    print(\"you both can see the movie\")\n",
    "else:\n",
    "    print(\"you both can't see the movie\")\n",
    "#both children have to be the of the same age in order to see the movie, if one is younger than the desired age, they both can't see the movie"
   ]
  },
  {
   "cell_type": "code",
   "execution_count": 5,
   "id": "f4cde1bd-e8d6-46eb-a342-ca7fc6b0ba10",
   "metadata": {
    "tags": []
   },
   "outputs": [
    {
     "name": "stdout",
     "output_type": "stream",
     "text": [
      "19 is old enough to see the movie\n"
     ]
    }
   ],
   "source": [
    "if age < 20 or age == 21 or age == 19:\n",
    "    print(age, \"is old enough to see the movie\")\n",
    "else:\n",
    "    print(age, \"is not old enough to see the movie\")\n",
    "#tells the childrens' age and if they are able to see the movie or not"
   ]
  },
  {
   "cell_type": "markdown",
   "id": "4e1a9cbf-8380-4632-aea0-4e25689e40d6",
   "metadata": {
    "tags": []
   },
   "source": [
    "# Ranges and Loops"
   ]
  },
  {
   "cell_type": "markdown",
   "id": "35b51f1c-a383-4d8b-a9c0-ec48dfa455cb",
   "metadata": {
    "tags": []
   },
   "source": [
    "### For Loops"
   ]
  },
  {
   "cell_type": "code",
   "execution_count": 37,
   "id": "a1db79cf-fa05-47ce-ae84-83583d8e3720",
   "metadata": {
    "tags": []
   },
   "outputs": [
    {
     "data": {
      "text/plain": [
       "['white', 'white', 'white', 'white', 'white']"
      ]
     },
     "execution_count": 37,
     "metadata": {},
     "output_type": "execute_result"
    }
   ],
   "source": [
    "squares=[\"red\",\"yellow\",\"green\",\"purple\",\"blue\"]\n",
    "for i in range(0,5):\n",
    "    squares[i]=\"white\"\n",
    "squares\n",
    "# defines, i, then replaces the squares list colors with \"white\" using the defined i, we can also use numbers such as 1, or 2, and 3, it will only add 3 \"whites\" into the list instead of an all \"white\" list\n",
    "# for loops are used for repetitive controlled types of code."
   ]
  },
  {
   "cell_type": "code",
   "execution_count": 42,
   "id": "e0117524-cb80-49e7-bb82-a9799b5b6c28",
   "metadata": {
    "tags": []
   },
   "outputs": [
    {
     "name": "stdout",
     "output_type": "stream",
     "text": [
      "0\n",
      "1\n",
      "2\n",
      "3\n",
      "4\n",
      "5\n",
      "6\n",
      "7\n",
      "8\n"
     ]
    }
   ],
   "source": [
    "for i in range(0,9):\n",
    "    print(i)\n",
    "#prints out the values up to 8"
   ]
  },
  {
   "cell_type": "code",
   "execution_count": 40,
   "id": "54feb3e7-20fb-43a3-a635-f1a7ce610f21",
   "metadata": {
    "tags": []
   },
   "outputs": [
    {
     "name": "stdout",
     "output_type": "stream",
     "text": [
      "1980\n",
      "1981\n",
      "1982\n",
      "1983\n"
     ]
    }
   ],
   "source": [
    "dates=[1980,1981,1982,1983]\n",
    "for year in dates:\n",
    "    print(year)\n",
    "#makes the index known as years, then prints the numbers as years or dates, years behaves the same as i in this instance"
   ]
  },
  {
   "cell_type": "code",
   "execution_count": 41,
   "id": "38bbbdfb-3953-4ad0-b52e-641677e45cbc",
   "metadata": {
    "tags": []
   },
   "outputs": [
    {
     "name": "stdout",
     "output_type": "stream",
     "text": [
      "0\n",
      "1\n",
      "2\n"
     ]
    }
   ],
   "source": [
    "for x in range(0,3):\n",
    "    print(x)\n",
    "#defines x and prints the range up to 2"
   ]
  },
  {
   "cell_type": "code",
   "execution_count": 21,
   "id": "9de094bc-3746-4fa6-a861-294b3710a1c2",
   "metadata": {
    "tags": []
   },
   "outputs": [
    {
     "name": "stdout",
     "output_type": "stream",
     "text": [
      "AA\n",
      "BA\n",
      "CA\n"
     ]
    }
   ],
   "source": [
    "for x in ['A','B','C']:\n",
    "    print(x+'A')\n",
    "#adds an A to all the elements in the list"
   ]
  },
  {
   "cell_type": "code",
   "execution_count": 24,
   "id": "27977794-5c5a-4bac-86a8-fb1b7a469ade",
   "metadata": {
    "tags": []
   },
   "outputs": [
    {
     "data": {
      "text/plain": [
       "('red', 'yellow', 'green')"
      ]
     },
     "execution_count": 24,
     "metadata": {},
     "output_type": "execute_result"
    }
   ],
   "source": [
    "squares2=\"red\",\"yellow\",\"green\"\n",
    "for i,square in enumerate(squares):\n",
    "    square\n",
    "    i\n",
    "#i is the index, the argument of the function enumerate is the list, and the variable is squares corresponding to elements in the list"
   ]
  },
  {
   "cell_type": "code",
   "execution_count": 26,
   "id": "fcd94a16-ec58-42b0-b304-6a6afe616bed",
   "metadata": {
    "tags": []
   },
   "outputs": [
    {
     "name": "stdout",
     "output_type": "stream",
     "text": [
      "0 A\n",
      "1 B\n",
      "2 C\n"
     ]
    }
   ],
   "source": [
    "for i,x in enumerate(['A','B','C']):\n",
    "    print(i,x)\n",
    "#i tells the value of each element while x is the element"
   ]
  },
  {
   "cell_type": "markdown",
   "id": "654784a5-9241-4893-b41c-9614bcda690a",
   "metadata": {},
   "source": [
    "### While loops"
   ]
  },
  {
   "cell_type": "code",
   "execution_count": 36,
   "id": "c4e3ab09-db88-4cad-925e-3ebd8c77142c",
   "metadata": {
    "tags": []
   },
   "outputs": [
    {
     "data": {
      "text/plain": [
       "['orange', 'orange']"
      ]
     },
     "execution_count": 36,
     "metadata": {},
     "output_type": "execute_result"
    }
   ],
   "source": [
    "squares3=['orange','orange','purple','orange','blue']\n",
    "#This is a list of squares\n",
    "Newsquares=[]\n",
    "#This creates a new list named new squares\n",
    "i=0\n",
    "# the index = 0\n",
    "while(squares3[i]=='orange'):\n",
    "    Newsquares.append(squares3[i])\n",
    "    i=i+1\n",
    "Newsquares\n",
    "#checks for if the square is orange then copies it over to the new list of squares\n",
    "#while loops executes a code block when to stop the loop under certain circumstances, in this instance it is the 'orange' that stop the loop"
   ]
  },
  {
   "cell_type": "code",
   "execution_count": null,
   "id": "c6db8c35-3bc8-471b-9168-6e19d7b73867",
   "metadata": {},
   "outputs": [],
   "source": []
  }
 ],
 "metadata": {
  "kernelspec": {
   "display_name": "Python 3 (ipykernel)",
   "language": "python",
   "name": "python3"
  },
  "language_info": {
   "codemirror_mode": {
    "name": "ipython",
    "version": 3
   },
   "file_extension": ".py",
   "mimetype": "text/x-python",
   "name": "python",
   "nbconvert_exporter": "python",
   "pygments_lexer": "ipython3",
   "version": "3.11.3"
  }
 },
 "nbformat": 4,
 "nbformat_minor": 5
}
